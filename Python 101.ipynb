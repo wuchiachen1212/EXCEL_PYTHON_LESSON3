{
 "cells": [
  {
   "cell_type": "markdown",
   "metadata": {},
   "source": [
    "# Python 101"
   ]
  },
  {
   "cell_type": "code",
   "execution_count": 1,
   "metadata": {},
   "outputs": [
    {
     "name": "stdout",
     "output_type": "stream",
     "text": [
      "Hello World!!!\n"
     ]
    }
   ],
   "source": [
    "# 讓電腦印出 \"Hello World!!!\"\n",
    "\n",
    "print(\"Hello World!!!\")"
   ]
  },
  {
   "cell_type": "markdown",
   "metadata": {},
   "source": [
    "## 註解 (Comment)"
   ]
  },
  {
   "cell_type": "code",
   "execution_count": 3,
   "metadata": {},
   "outputs": [],
   "source": [
    "# 在 python 的世界，註解的寫法是用 `#` 符號：\n",
    "\n",
    "# 我是註解"
   ]
  },
  {
   "cell_type": "markdown",
   "metadata": {},
   "source": [
    "## 註解(Comment)"
   ]
  },
  {
   "cell_type": "code",
   "execution_count": 6,
   "metadata": {},
   "outputs": [
    {
     "data": {
      "text/plain": [
       "'\\n我是註解 \\n我還是註解 \\n我依然是註解\\n'"
      ]
     },
     "execution_count": 6,
     "metadata": {},
     "output_type": "execute_result"
    }
   ],
   "source": [
    "## 若是要一次註解多行，可用 `\"\"\"` 符號\n",
    "\"\"\"\n",
    "我是註解 \n",
    "我還是註解 \n",
    "我依然是註解\n",
    "\"\"\""
   ]
  },
  {
   "cell_type": "markdown",
   "metadata": {},
   "source": [
    "## 變數(Variable)"
   ]
  },
  {
   "cell_type": "code",
   "execution_count": 9,
   "metadata": {},
   "outputs": [
    {
     "name": "stdout",
     "output_type": "stream",
     "text": [
      "Eugene\n"
     ]
    }
   ],
   "source": [
    "# 用法就如同代數裡的變數：\n",
    "my_name = \"Eugene\"\n",
    "print(my_name)"
   ]
  },
  {
   "cell_type": "markdown",
   "metadata": {},
   "source": [
    "```python\n",
    "my_name = \"Eugene\"\n",
    "```\n",
    "\n",
    "可以解讀成：今天我要把等號'=' 左邊的值**賦值**到等號右邊\n",
    "\n",
    "也就是把 “Eugene” 這個字串放入 my_name 這個變數裡\n",
    "\n",
    "\n",
    "另外，變數的名稱可以是任何的字串：\n",
    "```python\n",
    "my_full_name = \"Eugene Chang\"\n",
    "```"
   ]
  },
  {
   "cell_type": "code",
   "execution_count": null,
   "metadata": {},
   "outputs": [],
   "source": [
    "# 資料型別 (數字)"
   ]
  },
  {
   "cell_type": "code",
   "execution_count": 11,
   "metadata": {},
   "outputs": [],
   "source": [
    "# 整數\n",
    "myHeight = 178\n",
    "# 浮點數\n",
    "pi = 3.14"
   ]
  },
  {
   "cell_type": "markdown",
   "metadata": {},
   "source": [
    "## 不同於 C 或 Java 等強型別語言：\n",
    "\n",
    "```c\n",
    "// 需要明確宣告資料型別\n",
    "char my_name[6] = \"Eugene\";\n",
    "```\n",
    "\n",
    "## Python 是`弱型別語言`，無需明確的宣告變數的型別:\n",
    "```python\n",
    "my_name = \"Eugene\"\n",
    "```\n",
    "**意味著開發效率會大幅提昇！**"
   ]
  },
  {
   "cell_type": "markdown",
   "metadata": {},
   "source": [
    "## 運算子\n",
    " \n",
    "注意 Python 的運算順序和數學是一樣的，下表以計算的優先等級列出數學運算子：\n",
    "\n",
    "| 運算子 | 功能          | 實例    | 結果  |\n",
    "| :----: | :-----------: | :-----: | :---: |\n",
    "| **     | 指數          | 2 ** 3  | 8     |\n",
    "| %      | 模數/餘數     | 10 % 3  | 1     |\n",
    "| //     | 整數/商數取整 | 10 // 3 | 3     |\n",
    "| /      | 除法          | 22 / 8  | 2.75  |\n",
    "| *      | 乘法          | 2 * 3   | 6     |\n",
    "| -      | 減法          | 5 - 2   | 3     |\n",
    "| +      | 加法          | 2 + 3   | 5     |"
   ]
  },
  {
   "cell_type": "markdown",
   "metadata": {},
   "source": [
    "## 今天我若要做數字的運算"
   ]
  },
  {
   "cell_type": "code",
   "execution_count": 16,
   "metadata": {},
   "outputs": [
    {
     "name": "stdout",
     "output_type": "stream",
     "text": [
      "22.093170054286073\n"
     ]
    }
   ],
   "source": [
    "# 今天我們來算體脂數(BMI)：\n",
    "\n",
    "my_height = 178\n",
    "my_weight = 70\n",
    "bmi = my_weight / (my_height / 100) ** 2\n",
    "print(bmi)"
   ]
  },
  {
   "cell_type": "code",
   "execution_count": null,
   "metadata": {},
   "outputs": [],
   "source": []
  }
 ],
 "metadata": {
  "kernelspec": {
   "display_name": "Python 3",
   "language": "python",
   "name": "python3"
  },
  "language_info": {
   "codemirror_mode": {
    "name": "ipython",
    "version": 3
   },
   "file_extension": ".py",
   "mimetype": "text/x-python",
   "name": "python",
   "nbconvert_exporter": "python",
   "pygments_lexer": "ipython3",
   "version": "3.6.4"
  }
 },
 "nbformat": 4,
 "nbformat_minor": 2
}
