{
 "cells": [
  {
   "cell_type": "markdown",
   "metadata": {},
   "source": [
    "# 陣列運算\n",
    "\n",
    "上一堂課的回測，大家是否都注意到雖然我們的結果是正確的，程式執行的時間卻很慢呢？\n",
    "\n",
    "針對不同量級的資料，我們需要用不同的做法去解決問題，資料越大，我們就需要用聰明的方法做事\n",
    "\n",
    "要加快程式的做法有很多種，像是用時間複雜度較好的演算法\n",
    "\n",
    "但是演算法在實作上**十分困難**，而且若處理的資料量太小，很難看出時間上的差異\n",
    "\n",
    "另一種做法是懂得利用資料結構，像是**陣列**(或者以 Python 的説法：List)"
   ]
  },
  {
   "cell_type": "code",
   "execution_count": null,
   "metadata": {},
   "outputs": [],
   "source": [
    "import xlwings as xw\n",
    "import time"
   ]
  },
  {
   "cell_type": "code",
   "execution_count": null,
   "metadata": {},
   "outputs": [],
   "source": [
    "# 以我們上一堂課的 Excel 檔案爲例，打開你的 tsmc_back_test.xlsx 檔案\n",
    "wb = xw.Book(r'你的 tsmc_back_test.xlsx 路徑')\n",
    "wb"
   ]
  },
  {
   "cell_type": "code",
   "execution_count": null,
   "metadata": {},
   "outputs": [],
   "source": [
    "tsmc_sheet = wb.sheets['2330']\n",
    "\n",
    "result_sheet = wb.sheets['result']"
   ]
  },
  {
   "cell_type": "code",
   "execution_count": null,
   "metadata": {
    "scrolled": true
   },
   "outputs": [],
   "source": [
    "# 我們可以算出所有的日報酬率\n",
    "from xlwings.constants import Direction\n",
    "\n",
    "num_of_rows = tsmc_sheet.range('B1').end(Direction.xlDown).row\n",
    "num_of_rows\n",
    "\n",
    "# 記錄時間，time.time() 就像是按碼錶，把執行到它的那一刻的時間記錄下來\n",
    "ts = time.time()\n",
    "\n",
    "for i in range(3, num_of_rows+1):\n",
    "    daily_return = (result_sheet.cells(i, 2).value - result_sheet.cells(i-1, 2).value) / result_sheet.cells(i-1, 2).value\n",
    "    result_sheet.cells(i, 3).value = daily_return\n",
    "\n",
    "# 把回圈的跑完的時間記錄下來\n",
    "td = time.time()\n",
    "td - ts"
   ]
  },
  {
   "cell_type": "markdown",
   "metadata": {},
   "source": [
    "# 其實這個速度很慢...\n",
    "- 原因是讀寫 Excel 試算表内的資料是很費時的\n",
    "- 若想加速，需要**減少讀寫 Excel 資料的次數**\n",
    "- 一個簡單的原則：**當程式碼出現一次 .value, 我們的程式就會需要讀寫一次 Excel\n",
    "- 所以目前的程式碼是讀寫 4 x N 次"
   ]
  },
  {
   "cell_type": "markdown",
   "metadata": {},
   "source": [
    "# 這時我們就可以使用 Python 的 List (清單) 來解決執行效能的問題\n",
    "\n",
    "- List (清單) 其實就是一般程式語言的 Array (陣列) 只是用了不同的名字 \n",
    "- 可以一次性的截取出所有的收盤價，存入 list，這樣當 Python 在進行運算時\n",
    "- 可以到陣列讀取值，而非到 Excel 試算表讀取 Excel 的資料\n",
    "\n",
    "## list (清單)\n",
    "\n",
    "arr = [224.5, 224.5, 233.0, 237.5, 237.5, 238.0]\n",
    "\n",
    "| arr   |  224.5 |224.5  | 233.0   | 237.5   | 237.5   | 238.0 |\n",
    "| ------ | --- | --- | --- | --- | --- | --- |\n",
    "| 索引值 | 0   | 1   | 2   | 3   | 4   | 5   |\n",
    "\n",
    "```python\n",
    "arr[0]\n",
    "# 會回傳 224.5\n",
    "arr[5]\n",
    "# 會回傳 237.5\n",
    "```\n",
    "\n",
    "---\n",
    "## .append()\n",
    "\n",
    "把資料加到清單的最後面：\n",
    "\n",
    "```\n",
    "ary = [1,2,3]\n",
    "ary.append(4)\n",
    "```\n",
    "最後產生的 list 就會是：\n",
    "```python\n",
    "[1, 2, 3, 4]\n",
    "```\n",
    "\n",
    "---\n",
    "\n",
    "## slicing (切片)\n",
    "\n",
    "Slicing 就是取出一個陣列部分裏面的單個或多個值\n",
    "\n",
    "實作方法是，**ary[起始的索引值 : 結束的索引值+1]**\n",
    "\n",
    "```python\n",
    "ary[0:3]\n",
    "```\n",
    "0 代表起始的索引值、3代表結束的索引值的後面一個值\n",
    "\n",
    "最後就會得到 \n",
    "```python\n",
    "[1,2,3]\n",
    "```"
   ]
  },
  {
   "cell_type": "code",
   "execution_count": null,
   "metadata": {},
   "outputs": [],
   "source": [
    "ary = [1, 2, 3, 4]\n",
    "print(ary[0])\n",
    "ary.append(5)\n",
    "print(ary)\n",
    "ary[0:3]"
   ]
  },
  {
   "cell_type": "code",
   "execution_count": null,
   "metadata": {
    "scrolled": false
   },
   "outputs": [],
   "source": [
    "# expand='down' 表示會自動從 B2 開始，往下搜尋到最後一個有值的儲存格，以陣列的形式回傳\n",
    "tsmc_price = tsmc_sheet.range('B2').options(expand='down').value\n",
    "tsmc_price"
   ]
  },
  {
   "cell_type": "code",
   "execution_count": null,
   "metadata": {},
   "outputs": [],
   "source": [
    "# 先宣告一個空陣列\n",
    "return_values = []\n",
    "\n",
    "# 從第二筆資料(索引值為1)開始\n",
    "for i in range(1, len(tsmc_price)):\n",
    "    # 取得當天的收盤價\n",
    "    today_price = tsmc_price[i]\n",
    "    # 取得前一天的收盤價\n",
    "    yesterday_price = tsmc_price[i-1]\n",
    "    # 算出報酬率\n",
    "    return_value = (today_price - yesterday_price) / yesterday_price\n",
    "    # 將報酬率存入陣列\n",
    "    return_values.append(return_value)\n",
    "    \n",
    "return_values"
   ]
  },
  {
   "cell_type": "code",
   "execution_count": null,
   "metadata": {},
   "outputs": [],
   "source": [
    "# 接下來我們就可以歡天喜地的把陣列賦值給 C3 到 C114 這個範圍了\n",
    "\n",
    "result_sheet.range(\"C3\").value = return_values"
   ]
  },
  {
   "cell_type": "markdown",
   "metadata": {},
   "source": [
    "# 但是結果有點出乎我們的意料...\n",
    "\n",
    "![](https://www.dropbox.com/s/tgsno7c6d6jiyaq/range_wrong.PNG?dl=1)\n",
    "\n",
    "- 原因是陣列是以 row-based，但是我們想要賦值的範圍是 column-based\n",
    "\n",
    "若你執行以下程式碼：\n",
    "```python\n",
    "result_sheet.range(\"A1:B2\").value\n",
    "```\n",
    "就會回傳\n",
    "```python\n",
    "[['日期', '收盤價'], [datetime.datetime(2017, 10, 5, 0, 0), 224.5]]\n",
    "```\n",
    "在 Excel 的世界，任何一個二維 range 的值，就是用一個**二維陣列(也就是在陣列裏放另一個陣列)來表示**\n",
    "\n",
    "- 而目前 return_values 這個陣列的大小是 1 x 111 \n",
    "- 我們需要有一個方法把 return_values 的大小轉換成 111 x 1"
   ]
  },
  {
   "cell_type": "code",
   "execution_count": null,
   "metadata": {},
   "outputs": [],
   "source": [
    "result_sheet.range(\"A1:B2\").value"
   ]
  },
  {
   "cell_type": "code",
   "execution_count": null,
   "metadata": {},
   "outputs": [],
   "source": [
    "# 我們需要把 sma 的每一個值分別放入一個 list，一個 list 代表一個 row 的值\n",
    "# 這些代表 row 的 list 最後會被放入另一個 list, 成爲一個二維陣列\n",
    "values2d = [[227.33333333],\n",
    "            [231.66666667],\n",
    "            [236.        ]]\n",
    "\n",
    "result_sheet.range(\"C3\").value = values2d"
   ]
  },
  {
   "cell_type": "markdown",
   "metadata": {},
   "source": [
    "# 在這裏就和各位介紹 Numpy \n",
    "\n",
    "這時就介紹一下 Numpy，它是 Python 的一個重要模組，主要用於資料處理上。Numpy 底層以 C 和 Fortran 語言實作，所以能快速操作多重維度的陣列。\n",
    "\n",
    "因爲 Numpy 這個殺手級模組的出現，讓 Python 語言在資料科學與科研的領域大受歡迎。\n",
    "\n",
    "- 在這個範例我們就來看如何利用 **Numpy** 這個熱門的科學運算套件所提供的資料結構"
   ]
  },
  {
   "cell_type": "code",
   "execution_count": null,
   "metadata": {},
   "outputs": [],
   "source": [
    "# 引用 numpy\n",
    "import numpy as np"
   ]
  },
  {
   "cell_type": "markdown",
   "metadata": {},
   "source": [
    "## numpy.reshape()\n",
    "\n",
    "改變一個陣列的維度\n",
    "\n",
    "假設原本我們有一個 1 x 6 的陣列：\n",
    "\n",
    "```python\n",
    "[0, 1, 2, 3, 4, 5]\n",
    "```\n",
    "\n",
    "我們將該陣列轉成一個 **numpy** 的陣列\n",
    "\n",
    "```python\n",
    "np.array(ary)\n",
    "```\n",
    "\n",
    "array([0, 1, 2, 3, 4, 5])\n",
    "\n",
    "再用 **reshape** 把它變成一個 3 x 2 的陣列\n",
    "\n",
    "```python\n",
    "np.array(ary).reshape(3,2)\n",
    "```\n",
    "\n",
    "最後的陣列就會變成：\n",
    "\n",
    "```python\n",
    "array([[0, 1],\n",
    "       [2, 3],\n",
    "       [4, 5]])\n",
    "```"
   ]
  },
  {
   "cell_type": "code",
   "execution_count": null,
   "metadata": {},
   "outputs": [],
   "source": [
    "ary = [0, 1, 2, 3, 4, 5]\n",
    "np.array(ary)"
   ]
  },
  {
   "cell_type": "code",
   "execution_count": null,
   "metadata": {},
   "outputs": [],
   "source": [
    "np.array(ary).reshape(6,1)"
   ]
  },
  {
   "cell_type": "code",
   "execution_count": null,
   "metadata": {},
   "outputs": [],
   "source": [
    "# expand='down' 表示會自動從 B2 開始，往下搜尋到最後一個有值的儲存格，以陣列的形式回傳\n",
    "tsmc_price = tsmc_sheet.range('B2').options(expand='down').value\n",
    "tsmc_price"
   ]
  },
  {
   "cell_type": "code",
   "execution_count": null,
   "metadata": {},
   "outputs": [],
   "source": [
    "# 引用 numpy\n",
    "import numpy as np\n",
    "\n",
    "# 先將 return_values 轉換成 numpy array\n",
    "return_array = np.array(return_values)\n",
    "return_array"
   ]
  },
  {
   "cell_type": "code",
   "execution_count": null,
   "metadata": {},
   "outputs": [],
   "source": [
    "array_length = len(return_array)\n",
    "array_length"
   ]
  },
  {
   "cell_type": "code",
   "execution_count": null,
   "metadata": {},
   "outputs": [],
   "source": [
    "# 接下來我們就用 reshape(row, column) 改變陣列大小\n",
    "return_array = return_array.reshape(array_length, 1)\n",
    "return_array"
   ]
  },
  {
   "cell_type": "code",
   "execution_count": null,
   "metadata": {},
   "outputs": [],
   "source": [
    "\"\"\"\n",
    "現在當你需要把所有的報酬率寫入 C欄，你的做法可能會是：\n",
    "result_sheet.range(\"C3:C114\").value = return_array\n",
    "最後在針對 range 賦值時，xlwings 只需指定起點，也就是最上面的 cell\n",
    "若你的 range 是二維陣列，就是左上角的 cell\n",
    "\"\"\"\n",
    "result_sheet.range(\"C3\").value = return_array"
   ]
  },
  {
   "cell_type": "code",
   "execution_count": null,
   "metadata": {},
   "outputs": [],
   "source": [
    "# 最後我們來測試陣列運算所花費的時間\n",
    "ts_array = time.time()\n",
    "\n",
    "return_values = []\n",
    "\n",
    "for i in range(1, len(tsmc_price)):\n",
    "    today_price = tsmc_price[i]\n",
    "    yesterday_price = tsmc_price[i-1]\n",
    "    return_value = (today_price - yesterday_price)/yesterday_price\n",
    "    return_values.append(return_value)\n",
    "\n",
    "result_sheet.range(\"C3\").value = return_array\n",
    "\n",
    "td_array = time.time() \n",
    "\n",
    "td_array - ts_array"
   ]
  },
  {
   "cell_type": "code",
   "execution_count": null,
   "metadata": {
    "scrolled": true
   },
   "outputs": [],
   "source": [
    "print(\"時間差距：{}倍\".format((td - ts)/(td_array - ts_array)))"
   ]
  },
  {
   "cell_type": "code",
   "execution_count": null,
   "metadata": {},
   "outputs": [],
   "source": [
    "# 接下來我們就來計算3日移動平均\n",
    "\n",
    "# 先宣告一個空陣列\n",
    "sma = []\n",
    "\n",
    "# 從陣列的第三個值開始計算\n",
    "for i in range(3, len(tsmc_price)+1):\n",
    "    # 一次取出三天的收盤價，算出平均值，再用 append 加入陣列\n",
    "    mean = sum(tsmc_price[i-3:i]) / len(tsmc_price[i-3:i])\n",
    "    print(mean)\n",
    "    \n",
    "# 當然，這個做法有點土炮，畢竟 numpy 已經提供了很好用的功能可以用來計算平均值"
   ]
  },
  {
   "cell_type": "markdown",
   "metadata": {},
   "source": [
    "## numpy.mean()\n",
    "\n",
    "計算一個 np array 的平均值\n",
    "```python\n",
    "ary = [1, 2, 3]\n",
    "np_array = np.array(ary)\n",
    "\n",
    "np.mean(np_array)\n",
    "```\n",
    "就會把 np_array 的平均值，也就是 2.0 算出來"
   ]
  },
  {
   "cell_type": "code",
   "execution_count": null,
   "metadata": {},
   "outputs": [],
   "source": [
    "sma = []\n",
    "# 從陣列的第三個值開始計算\n",
    "for i in range(3, len(tsmc_price)+1):\n",
    "    # 一次取出三天的收盤價，算出平均值，再用 append 加入陣列\n",
    "    mean = sum(tsmc_price[i-3:i]) / len(tsmc_price[i-3:i])\n",
    "    sma.append(mean)\n",
    "\n",
    "# 最後再把我們的結果轉成 N x 1 大小的陣列\n",
    "sma_array = np.array(sma).reshape(len(sma),1)\n",
    "# 最後寫回 D 欄\n",
    "result_sheet = wb.sheets['result']\n",
    "result_sheet.range('D4').value = sma_array"
   ]
  },
  {
   "cell_type": "markdown",
   "metadata": {},
   "source": [
    "# range().options() 功能\n",
    "\n",
    "除了能夠用 expand 自動偵測範圍以外，options 也能讓開發者指定資料的型別\n",
    "\n",
    "```python\n",
    "# 從 B2 往下查找，回傳一個 np.array 陣列\n",
    "tsmc_sheet.range('B2').options(np.array, expand='down')\n",
    "```"
   ]
  },
  {
   "cell_type": "code",
   "execution_count": null,
   "metadata": {},
   "outputs": [],
   "source": [
    "# expand='down' 表示會自動從 B2 開始，往下搜尋到最後一個有值的儲存格，以 np.array的形式回傳\n",
    "tsmc_price = tsmc_sheet.range('B2').options(np.array, expand='down').value\n",
    "tsmc_price"
   ]
  },
  {
   "cell_type": "markdown",
   "metadata": {},
   "source": [
    "# numpy 陣列相乘\n",
    "\n",
    "傳統上若我們要用陣列做 element-wise 的運算...\n",
    "\n",
    "```python\n",
    "km_list = [3, 5, 10, 21, 42.195]\n",
    "km_to_mile = 0.621371192\n",
    "mile_list = []\n",
    "# 一定需要一個 for loop \n",
    "for km in km_list:\n",
    "    mile_list.append(km * km_to_mile)\n",
    "\n",
    "print(mile_list)\n",
    "```\n",
    "\n",
    "用 lambda 函數也沒有好到那裏去...\n",
    "\n",
    "```python\n",
    "km_list = [3, 5, 10, 21, 42.195]\n",
    "mile_list = list(map(lambda x: x * 0.621371192, km_list))\n",
    "print(mile_list)\n",
    "```\n",
    "\n",
    "但是今天你若是使用 numpy array...\n",
    "\n",
    "```python\n",
    "km_list = [3, 5, 10, 21, 42.195]\n",
    "km_array = numpy.array(km_list)\n",
    "print(type(km_array))\n",
    "km_to_mile = 0.621371192\n",
    "# 讓一個 numpy 裏面的每一筆資料都與常數 km_to_mile 相乘\n",
    "# 使用 numpy, 語法非常直覺！\n",
    "mile_array = km_array * km_to_mile\n",
    "print(mile_array)\n",
    "```\n",
    "\n",
    "\n",
    "# 隨堂練習\n",
    "- 請用 numpy 練習計算這五個人的 BMI\n",
    "- 回傳的多筆 bmi 值必須是一個陣列\n",
    "```python\n",
    " heights = [173, 168, 171, 189, 179]\n",
    "weights = [65.4, 59.2, 63.6, 88.4, 68.7]\n",
    "```\n",
    "\n",
    "---"
   ]
  },
  {
   "cell_type": "code",
   "execution_count": null,
   "metadata": {},
   "outputs": [],
   "source": [
    "# 接下來我們就來計算 5日加權移動平均\n",
    "\n",
    "# 需要將權重與價格兩兩相乘\n",
    "weights = np.arange(1, 6)\n",
    "print(weights)\n",
    "\n",
    "prices = tsmc_price[0:5]\n",
    "print(prices)\n",
    "\n",
    "# 使用 weight * prices, 將陣列的數依照順序兩兩相乘, 非常强大！\n",
    "weights * prices"
   ]
  },
  {
   "cell_type": "markdown",
   "metadata": {},
   "source": [
    "# 隨堂練習\n",
    "\n",
    "```python\n",
    "# 算出所有的 5日加權移動平均,寫入 E 欄\n",
    "wma = []\n",
    "\n",
    "weights = list(range(1,6))\n",
    "\n",
    "for i in range(5, len(tsmc_price)+1):\n",
    "    prices = ______________\n",
    "    \n",
    "    result = _________________________\n",
    "    wma.append(result)\n",
    "\n",
    "wma_array = np.array(wma).reshape(len(wma), 1)\n",
    "result_sheet.range((6, 'E')).value = wma_array\n",
    "```"
   ]
  },
  {
   "cell_type": "code",
   "execution_count": null,
   "metadata": {},
   "outputs": [],
   "source": []
  },
  {
   "cell_type": "markdown",
   "metadata": {},
   "source": [
    "# 小結\n",
    "- 陣列運算相對不直覺，但是**運算效能卻會大幅提升**\n",
    "- numpy 這個强大的套件就在功能和效能上補足了原廠 python list 的不足之處\n",
    "\n",
    "補充教材：\n",
    "\n",
    "[numpy 套件官網](http://www.numpy.org/)"
   ]
  },
  {
   "cell_type": "markdown",
   "metadata": {},
   "source": [
    "# 資料視覺化\n",
    "\n",
    "今天我們手上已經有了許多資料，但是受到生活的限制，很多時候我們對數字是無感的\n",
    "\n",
    "因此，把資料視覺化，像是產生圖表，就成了一個重要并且值得研究的議題"
   ]
  },
  {
   "cell_type": "code",
   "execution_count": null,
   "metadata": {},
   "outputs": [],
   "source": [
    "# xlwings 直接整合了 Excel 原廠的 Chart 物件 \n",
    "chart = result_sheet.charts.add()\n",
    "# 使用 expand 將試算表内所有、連續的資料撈出\n",
    "chart.set_source_data(result_sheet.range('A1').expand())\n",
    "chart.chart_type = 'line'\n",
    "chart.top = result_sheet.range('K5').top"
   ]
  },
  {
   "cell_type": "markdown",
   "metadata": {},
   "source": [
    "# Matplotlib\n",
    "\n",
    "Python 開發者社群最被廣汎使用的繪圖套件，功能强大"
   ]
  },
  {
   "cell_type": "code",
   "execution_count": null,
   "metadata": {
    "scrolled": true
   },
   "outputs": [],
   "source": [
    "import matplotlib.pyplot as plt\n",
    "\n",
    "plt.ylabel('some numbers')\n",
    "plt.plot([1, 2, 3, 4], [1, 4, 9, 16])\n",
    "plt.show()"
   ]
  },
  {
   "cell_type": "code",
   "execution_count": null,
   "metadata": {
    "scrolled": false
   },
   "outputs": [],
   "source": [
    "tsmc_sheet = wb.sheets['result']\n",
    "time_series = tsmc_sheet.range('A2').options(np.array, expand='down').value\n",
    "time_series"
   ]
  },
  {
   "cell_type": "code",
   "execution_count": null,
   "metadata": {},
   "outputs": [],
   "source": [
    "ma_3d = tsmc_sheet.range('D2').options(np.array, expand='down').value\n",
    "ma_3d"
   ]
  },
  {
   "cell_type": "code",
   "execution_count": null,
   "metadata": {},
   "outputs": [],
   "source": [
    "fig = plt.figure()\n",
    "plt.plot(time_series, tsmc_price)\n",
    "plt.xlabel('Date')\n",
    "plt.ylabel('Price')"
   ]
  },
  {
   "cell_type": "code",
   "execution_count": null,
   "metadata": {},
   "outputs": [],
   "source": [
    "result_sheet.pictures.add(fig, name=\"Closing Price vs Date\")"
   ]
  },
  {
   "cell_type": "markdown",
   "metadata": {},
   "source": [
    "# 成功將圖加到了 Excel 上面\n",
    "\n",
    "![](https://www.dropbox.com/s/hkr2r8r8vn98msj/matplot_first_try.PNG?dl=1)\n",
    "\n",
    "但是圖的位置將一部分的資料蓋住了..."
   ]
  },
  {
   "cell_type": "code",
   "execution_count": null,
   "metadata": {},
   "outputs": [],
   "source": [
    "# 設定圖的左邊與上面的位置\n",
    "plot = result_sheet.pictures.add(fig,name=\"Closing Price vs Date\",\n",
    "                     left=result_sheet.range('F10').left, top=result_sheet.range('F10').top)"
   ]
  },
  {
   "cell_type": "code",
   "execution_count": null,
   "metadata": {},
   "outputs": [],
   "source": [
    "# 若覺得圖太大...\n",
    "\n",
    "plot.height /= 2\n",
    "plot.width /= 2"
   ]
  },
  {
   "cell_type": "code",
   "execution_count": null,
   "metadata": {},
   "outputs": [],
   "source": []
  }
 ],
 "metadata": {
  "kernelspec": {
   "display_name": "Python 3",
   "language": "python",
   "name": "python3"
  },
  "language_info": {
   "codemirror_mode": {
    "name": "ipython",
    "version": 3
   },
   "file_extension": ".py",
   "mimetype": "text/x-python",
   "name": "python",
   "nbconvert_exporter": "python",
   "pygments_lexer": "ipython3",
   "version": "3.6.4"
  }
 },
 "nbformat": 4,
 "nbformat_minor": 2
}
